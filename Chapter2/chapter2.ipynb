{
 "cells": [
  {
   "cell_type": "code",
   "execution_count": 1,
   "metadata": {
    "collapsed": true
   },
   "outputs": [],
   "source": [
    "import random\n",
    "amounts=[x for x in range(1,101)]\n",
    "prices=[random.randint(1,100) for x in range(1,101)]\n"
   ]
  },
  {
   "cell_type": "markdown",
   "metadata": {
    "collapsed": true
   },
   "source": [
    "# Listing 2.1 Computing the inner product of two vectors without using a library\n"
   ]
  },
  {
   "cell_type": "code",
   "execution_count": 2,
   "metadata": {},
   "outputs": [
    {
     "data": {
      "text/plain": [
       "265852"
      ]
     },
     "execution_count": 2,
     "metadata": {},
     "output_type": "execute_result"
    }
   ],
   "source": [
    "revenue = 0\n",
    "for price, amount in zip(prices, amounts):\n",
    "    revenue += price * amount\n",
    "revenue"
   ]
  },
  {
   "cell_type": "markdown",
   "metadata": {},
   "source": [
    "# Listing 2.2 Computing the inner product using NumPy\n"
   ]
  },
  {
   "cell_type": "code",
   "execution_count": 3,
   "metadata": {},
   "outputs": [
    {
     "data": {
      "text/plain": [
       "265852"
      ]
     },
     "execution_count": 3,
     "metadata": {},
     "output_type": "execute_result"
    }
   ],
   "source": [
    "import numpy as np\n",
    "revenu=np.dot(prices, amounts)\n",
    "revenu"
   ]
  },
  {
   "cell_type": "code",
   "execution_count": 4,
   "metadata": {
    "collapsed": true
   },
   "outputs": [],
   "source": [
    "import tensorflow as tf"
   ]
  },
  {
   "cell_type": "markdown",
   "metadata": {},
   "source": [
    "# Listing 2.3 Different ways to represent tensors\n"
   ]
  },
  {
   "cell_type": "code",
   "execution_count": 5,
   "metadata": {},
   "outputs": [
    {
     "name": "stdout",
     "output_type": "stream",
     "text": [
      "<class 'list'>\n",
      "<class 'numpy.ndarray'>\n",
      "<class 'tensorflow.python.framework.ops.Tensor'>\n"
     ]
    }
   ],
   "source": [
    "import tensorflow as tf\n",
    "import numpy as np\n",
    "\n",
    "m1 =[[1.0, 2.0],\n",
    "    [3.0, 4.0]]\n",
    "\n",
    "m2 =np.array([[1.0, 2.0],\n",
    "              [3.0, 4.0]])\n",
    "m3 = tf.constant([[1.0, 2.0],\n",
    "                  [3.0, 4.0]])\n",
    "print(type(m1))\n",
    "print(type(m2))\n",
    "print(type(m3))"
   ]
  },
  {
   "cell_type": "code",
   "execution_count": 6,
   "metadata": {},
   "outputs": [
    {
     "name": "stdout",
     "output_type": "stream",
     "text": [
      "<class 'tensorflow.python.framework.ops.Tensor'>\n",
      "<class 'tensorflow.python.framework.ops.Tensor'>\n",
      "<class 'tensorflow.python.framework.ops.Tensor'>\n"
     ]
    }
   ],
   "source": [
    "t1 = tf.convert_to_tensor(m1, dtype=tf.float32)\n",
    "t2 = tf.convert_to_tensor(m2, dtype=tf.float32)\n",
    "t3 = tf.convert_to_tensor(m3, dtype=tf.float32)\n",
    "print(type(t3))\n",
    "print(type(t2))\n",
    "print(type(t1))"
   ]
  },
  {
   "cell_type": "markdown",
   "metadata": {},
   "source": [
    "# Listing 2.4 Creating tensors\n"
   ]
  },
  {
   "cell_type": "code",
   "execution_count": 7,
   "metadata": {},
   "outputs": [
    {
     "name": "stdout",
     "output_type": "stream",
     "text": [
      "Tensor(\"Const_3:0\", shape=(1, 2), dtype=float32)\n",
      "Tensor(\"Const_4:0\", shape=(2, 1), dtype=int32)\n",
      "Tensor(\"Const_5:0\", shape=(2, 3, 2), dtype=int32)\n"
     ]
    }
   ],
   "source": [
    "import tensorflow as tf\n",
    "m1 = tf.constant([[1., 2.]])\n",
    "m2 = tf.constant([[1],[2]])\n",
    "m3 = tf.constant([[[1,2],\n",
    "                  [3,4],\n",
    "                  [5,6]],\n",
    "                 [[7,8],\n",
    "                 [9,10],\n",
    "                 [11, 12]]])\n",
    "print(m1)\n",
    "print(m2)\n",
    "print(m3)"
   ]
  },
  {
   "cell_type": "markdown",
   "metadata": {},
   "source": [
    "# Listing 2.5 Using the negation operator\n"
   ]
  },
  {
   "cell_type": "code",
   "execution_count": 8,
   "metadata": {},
   "outputs": [
    {
     "name": "stdout",
     "output_type": "stream",
     "text": [
      "Tensor(\"Neg:0\", shape=(1, 2), dtype=int32)\n"
     ]
    }
   ],
   "source": [
    "import tensorflow as tf\n",
    "\n",
    "x = tf.constant([[1,2]])\n",
    "neg_x = tf.negative(x)\n",
    "print(neg_x)"
   ]
  },
  {
   "cell_type": "code",
   "execution_count": 9,
   "metadata": {},
   "outputs": [
    {
     "name": "stdout",
     "output_type": "stream",
     "text": [
      "[ 1  2  3  4  5  6  7  8  9 10]\n",
      "[ 1  3  5  7  9 11 13 15 17 19]\n"
     ]
    }
   ],
   "source": [
    "sess = tf.InteractiveSession()\n",
    "x=np.arange(1,11)\n",
    "y=np.arange(1,21,2)\n",
    "print(x)\n",
    "print(y)"
   ]
  },
  {
   "cell_type": "code",
   "execution_count": 10,
   "metadata": {},
   "outputs": [
    {
     "name": "stdout",
     "output_type": "stream",
     "text": [
      "Add: [  2.   5.   8.  11.  14.  17.  20.  23.  26.  29.]\n",
      "Sub: [ 0.  1.  2.  3.  4.  5.  6.  7.  8.  9.]\n",
      "Mul:  [   1.    6.   15.   28.   45.   66.   91.  120.  153.  190.]\n"
     ]
    }
   ],
   "source": [
    "t1=tf.convert_to_tensor(x, dtype=tf.float32)\n",
    "t2=tf.convert_to_tensor(y, dtype=tf.float32)\n",
    "add =tf.add(t1,t2).eval()\n",
    "print(\"Add:\",add)\n",
    "sub = tf.subtract(t2,t1).eval()\n",
    "print(\"Sub:\",sub)\n",
    "mul = tf.multiply(t1,t2).eval()\n",
    "print(\"Mul: \",mul)"
   ]
  },
  {
   "cell_type": "markdown",
   "metadata": {},
   "source": [
    "<h3>More Math function link</h3>\n",
    "<a href=\"https://www.tensorflow.org/api_guides/python/math_ops#Arithmetic_Operators\">Click</a>"
   ]
  },
  {
   "cell_type": "code",
   "execution_count": 11,
   "metadata": {},
   "outputs": [
    {
     "data": {
      "text/plain": [
       "<tf.Tensor 'mul_2:0' shape=() dtype=float32>"
      ]
     },
     "execution_count": 11,
     "metadata": {},
     "output_type": "execute_result"
    }
   ],
   "source": [
    "from math import pi\n",
    "x=5\n",
    "mean = 1.0\n",
    "sigma = 0.0\n",
    "(tf.exp(tf.negative(tf.pow(x - mean, 2.0)/\n",
    "                   (2.0 * tf.pow(sigma, 2.0))))*\n",
    "(1.0 /(sigma * tf.sqrt(2.0 * pi))))"
   ]
  },
  {
   "cell_type": "markdown",
   "metadata": {},
   "source": [
    "# Listing 2.6 Using a session\n"
   ]
  },
  {
   "cell_type": "code",
   "execution_count": 12,
   "metadata": {},
   "outputs": [
    {
     "name": "stdout",
     "output_type": "stream",
     "text": [
      "[[-1. -2.]]\n"
     ]
    }
   ],
   "source": [
    "import tensorflow as tf\n",
    "\n",
    "x = tf.constant([[1.,2.]])\n",
    "neg_op = tf.negative(x)\n",
    "\n",
    "with tf.Session() as sess:\n",
    "    result=sess.run(neg_op)\n",
    "\n",
    "print(result)"
   ]
  },
  {
   "cell_type": "markdown",
   "metadata": {},
   "source": [
    "# Listing 2.7 Using the interactive session mode\n"
   ]
  },
  {
   "cell_type": "code",
   "execution_count": 13,
   "metadata": {},
   "outputs": [
    {
     "name": "stdout",
     "output_type": "stream",
     "text": [
      "[[-1. -2.]]\n"
     ]
    }
   ],
   "source": [
    "import tensorflow as tf\n",
    "sess = tf.InteractiveSession()\n",
    "\n",
    "x = tf.constant([[1.,2.]])\n",
    "neg_x = tf.negative(x)\n",
    "result =neg_x.eval()\n",
    "print(result)\n",
    "sess.close()"
   ]
  },
  {
   "cell_type": "markdown",
   "metadata": {},
   "source": [
    "# Listing 2.8 Logging a session \n"
   ]
  },
  {
   "cell_type": "code",
   "execution_count": 14,
   "metadata": {},
   "outputs": [
    {
     "name": "stdout",
     "output_type": "stream",
     "text": [
      "[[-1. -2.]]\n"
     ]
    }
   ],
   "source": [
    "import tensorflow as tf\n",
    "\n",
    "x = tf.constant([[1.,2.]])\n",
    "neg_x = tf.negative(x)\n",
    "\n",
    "with tf.Session(config=tf.ConfigProto(log_device_placement=True)) as sess:\n",
    "    result = sess.run(neg_x)\n",
    "    \n",
    "print(result)"
   ]
  },
  {
   "cell_type": "code",
   "execution_count": 15,
   "metadata": {},
   "outputs": [
    {
     "name": "stdout",
     "output_type": "stream",
     "text": [
      "[[ 22.  28.]\n",
      " [ 49.  64.]]\n",
      "[[ 22.  28.]\n",
      " [ 49.  64.]]\n"
     ]
    }
   ],
   "source": [
    "# Creates a graph.\n",
    "a = tf.constant([1.0, 2.0, 3.0, 4.0, 5.0, 6.0], shape=[2, 3], name='a')\n",
    "b = tf.constant([1.0, 2.0, 3.0, 4.0, 5.0, 6.0], shape=[3, 2], name='b')\n",
    "c = tf.matmul(a, b)\n",
    "# Creates a session with log_device_placement set to True.\n",
    "sess = tf.Session(config=tf.ConfigProto(log_device_placement=True))\n",
    "# Runs the op.\n",
    "print(sess.run(c))# Creates a graph.\n",
    "with tf.device('/cpu:0'):\n",
    "  a = tf.constant([1.0, 2.0, 3.0, 4.0, 5.0, 6.0], shape=[2, 3], name='a')\n",
    "  b = tf.constant([1.0, 2.0, 3.0, 4.0, 5.0, 6.0], shape=[3, 2], name='b')\n",
    "c = tf.matmul(a, b)\n",
    "# Creates a session with log_device_placement set to True.\n",
    "sess = tf.Session(config=tf.ConfigProto(log_device_placement=True))\n",
    "# Runs the op.\n",
    "print(sess.run(c))"
   ]
  },
  {
   "cell_type": "code",
   "execution_count": 16,
   "metadata": {},
   "outputs": [
    {
     "name": "stdout",
     "output_type": "stream",
     "text": [
      "[[ 22.  28.]\n",
      " [ 49.  64.]]\n"
     ]
    }
   ],
   "source": [
    "# Creates a graph.\n",
    "with tf.device('/cpu:0'):\n",
    "  a = tf.constant([1.0, 2.0, 3.0, 4.0, 5.0, 6.0], shape=[2, 3], name='a')\n",
    "  b = tf.constant([1.0, 2.0, 3.0, 4.0, 5.0, 6.0], shape=[3, 2], name='b')\n",
    "c = tf.matmul(a, b)\n",
    "# Creates a session with log_device_placement set to True.\n",
    "sess = tf.Session(config=tf.ConfigProto(log_device_placement=True))\n",
    "# Runs the op.\n",
    "print(sess.run(c))"
   ]
  },
  {
   "cell_type": "markdown",
   "metadata": {},
   "source": [
    "# Listing 2.9 Using a variable\n"
   ]
  },
  {
   "cell_type": "code",
   "execution_count": 17,
   "metadata": {},
   "outputs": [
    {
     "name": "stdout",
     "output_type": "stream",
     "text": [
      "Spike False\n",
      "Spike True\n",
      "Spike False\n",
      "Spike False\n",
      "Spike True\n",
      "Spike False\n",
      "Spike True\n"
     ]
    }
   ],
   "source": [
    "import tensorflow as tf\n",
    "sess = tf.InteractiveSession()\n",
    "\n",
    "raw_data = [1., 2., 8., -1., 0., 5.5, 6., 13]\n",
    "spike = tf.Variable(False)\n",
    "spike.initializer.run()\n",
    "\n",
    "for i in range(1,len(raw_data)):\n",
    "    if raw_data[i]-raw_data[i-1] > 5:\n",
    "        updater = tf.assign(spike, True).eval()\n",
    "    else:\n",
    "        updater = tf.assign(spike, False).eval()\n",
    "    print(\"Spike\",spike.eval())"
   ]
  },
  {
   "cell_type": "markdown",
   "metadata": {},
   "source": [
    "# Listing 2.10 Saving variables\n"
   ]
  },
  {
   "cell_type": "code",
   "execution_count": 18,
   "metadata": {},
   "outputs": [
    {
     "name": "stdout",
     "output_type": "stream",
     "text": [
      "[False False  True False False  True False  True]\n",
      "Spikes data saved in file data/spikes.ckpt\n"
     ]
    }
   ],
   "source": [
    "import tensorflow as tf\n",
    "sess = tf.InteractiveSession()\n",
    "\n",
    "raw_data = raw_data = [1., 2., 8., -1., 0., 5.5, 6., 13]\n",
    "spikes = tf.Variable([False]* len(raw_data), name='spikes')\n",
    "spikes.initializer.run()\n",
    "\n",
    "saver = tf.train.Saver([spikes])\n",
    "\n",
    "for i in range(1, len(raw_data)):\n",
    "    if raw_data[i]-raw_data[i-1] > 5:\n",
    "        spikes_val = spikes.eval()\n",
    "        spikes_val[i] =True\n",
    "        updater = tf.assign(spikes, spikes_val).eval()\n",
    "print(updater)\n",
    "save_path = saver.save(sess, \"data/spikes.ckpt\")\n",
    "print(\"Spikes data saved in file %s\" %save_path)"
   ]
  },
  {
   "cell_type": "markdown",
   "metadata": {},
   "source": [
    "# Listing 2.11 Loading variables\n"
   ]
  },
  {
   "cell_type": "code",
   "execution_count": 19,
   "metadata": {},
   "outputs": [
    {
     "name": "stdout",
     "output_type": "stream",
     "text": [
      "INFO:tensorflow:Restoring parameters from data/spikes.ckpt\n",
      "<tf.Variable 'spikes_1:0' shape=(8,) dtype=bool_ref>\n"
     ]
    }
   ],
   "source": [
    "import tensorflow as tf\n",
    "sess = tf.InteractiveSession()\n",
    "\n",
    "spikes = tf.Variable([False]*8, name='spikes')\n",
    "\n",
    "\n",
    "saver = tf.train.import_meta_graph('data/spikes.ckpt.meta')\n",
    "saver.restore(sess, \"data/spikes.ckpt\")\n",
    "#sess.run(tf.global_variables_initializer())\n",
    "print(spikes)\n",
    "\n",
    "sess.close()"
   ]
  },
  {
   "cell_type": "markdown",
   "metadata": {},
   "source": [
    "# Listing 2.12 Defining the average update operator\n"
   ]
  },
  {
   "cell_type": "code",
   "execution_count": 20,
   "metadata": {},
   "outputs": [
    {
     "ename": "NameError",
     "evalue": "name 'alpha' is not defined",
     "output_type": "error",
     "traceback": [
      "\u001b[1;31m----------------------------------------------------\u001b[0m",
      "\u001b[1;31mNameError\u001b[0m          Traceback (most recent call last)",
      "\u001b[1;32m<ipython-input-20-5897a97a17b0>\u001b[0m in \u001b[0;36m<module>\u001b[1;34m()\u001b[0m\n\u001b[0;32m      1\u001b[0m \u001b[1;31m#Dont worry about error because it will complete in 2.14\u001b[0m\u001b[1;33m\u001b[0m\u001b[1;33m\u001b[0m\u001b[0m\n\u001b[1;32m----> 2\u001b[1;33m \u001b[0mupdate_avg\u001b[0m \u001b[1;33m=\u001b[0m \u001b[0malpha\u001b[0m \u001b[1;33m*\u001b[0m \u001b[0mcurr_value\u001b[0m \u001b[1;33m+\u001b[0m \u001b[1;33m(\u001b[0m\u001b[1;36m1\u001b[0m\u001b[1;33m-\u001b[0m \u001b[0malpha\u001b[0m\u001b[1;33m)\u001b[0m \u001b[1;33m*\u001b[0m \u001b[0mprev_avg\u001b[0m\u001b[1;33m\u001b[0m\u001b[0m\n\u001b[0m",
      "\u001b[1;31mNameError\u001b[0m: name 'alpha' is not defined"
     ]
    }
   ],
   "source": [
    "#Dont worry about error because it will complete in 2.14\n",
    "update_avg = alpha * curr_value + (1- alpha) * prev_avg"
   ]
  },
  {
   "cell_type": "code",
   "execution_count": 21,
   "metadata": {},
   "outputs": [
    {
     "ename": "NameError",
     "evalue": "name 'update_avg' is not defined",
     "output_type": "error",
     "traceback": [
      "\u001b[1;31m----------------------------------------------------\u001b[0m",
      "\u001b[1;31mNameError\u001b[0m          Traceback (most recent call last)",
      "\u001b[1;32m<ipython-input-21-9ae425c2438b>\u001b[0m in \u001b[0;36m<module>\u001b[1;34m()\u001b[0m\n\u001b[0;32m      2\u001b[0m \u001b[1;32mwith\u001b[0m \u001b[0mtf\u001b[0m\u001b[1;33m.\u001b[0m\u001b[0mSession\u001b[0m\u001b[1;33m(\u001b[0m\u001b[1;33m)\u001b[0m \u001b[1;32mas\u001b[0m \u001b[0msess\u001b[0m\u001b[1;33m:\u001b[0m\u001b[1;33m\u001b[0m\u001b[0m\n\u001b[0;32m      3\u001b[0m     \u001b[1;32mfor\u001b[0m \u001b[0mi\u001b[0m \u001b[1;32min\u001b[0m \u001b[0mrange\u001b[0m\u001b[1;33m(\u001b[0m\u001b[0mlen\u001b[0m\u001b[1;33m(\u001b[0m\u001b[0mraw_data\u001b[0m\u001b[1;33m)\u001b[0m\u001b[1;33m)\u001b[0m\u001b[1;33m:\u001b[0m\u001b[1;33m\u001b[0m\u001b[0m\n\u001b[1;32m----> 4\u001b[1;33m         \u001b[0mcurr_avg\u001b[0m \u001b[1;33m=\u001b[0m \u001b[0msess\u001b[0m\u001b[1;33m.\u001b[0m\u001b[0mrun\u001b[0m\u001b[1;33m(\u001b[0m\u001b[0mupdate_avg\u001b[0m\u001b[1;33m,\u001b[0m \u001b[0mfeed_dic\u001b[0m\u001b[1;33m=\u001b[0m\u001b[1;33m{\u001b[0m\u001b[0mcurr_val\u001b[0m\u001b[1;33m:\u001b[0m\u001b[0mraw_data\u001b[0m\u001b[1;33m[\u001b[0m\u001b[0mi\u001b[0m\u001b[1;33m]\u001b[0m\u001b[1;33m}\u001b[0m\u001b[1;33m)\u001b[0m\u001b[1;33m\u001b[0m\u001b[0m\n\u001b[0m\u001b[0;32m      5\u001b[0m         \u001b[0msess\u001b[0m\u001b[1;33m.\u001b[0m\u001b[0mrun\u001b[0m\u001b[1;33m(\u001b[0m\u001b[0mtf\u001b[0m\u001b[1;33m.\u001b[0m\u001b[0massign\u001b[0m\u001b[1;33m(\u001b[0m\u001b[0mpre_avg\u001b[0m\u001b[1;33m,\u001b[0m \u001b[0mcurr_avg\u001b[0m\u001b[1;33m)\u001b[0m\u001b[1;33m)\u001b[0m\u001b[1;33m\u001b[0m\u001b[0m\n",
      "\u001b[1;31mNameError\u001b[0m: name 'update_avg' is not defined"
     ]
    }
   ],
   "source": [
    "raw_data = np.random.normal(10,1,100)\n",
    "with tf.Session() as sess:\n",
    "    for i in range(len(raw_data)):\n",
    "        curr_avg = sess.run(update_avg, feed_dic={curr_val:raw_data[i]})\n",
    "        sess.run(tf.assign(pre_avg, curr_avg))"
   ]
  },
  {
   "cell_type": "markdown",
   "metadata": {},
   "source": [
    "# Listing 2.14 Filling in missing code to complete the exponential average algorithm\n"
   ]
  },
  {
   "cell_type": "code",
   "execution_count": 22,
   "metadata": {},
   "outputs": [
    {
     "name": "stdout",
     "output_type": "stream",
     "text": [
      "9.83028760538 0.491514\n",
      "9.56720685226 0.945299\n",
      "8.43496061218 1.31978\n",
      "9.20194977237 1.71389\n",
      "9.79881115477 2.11814\n",
      "8.88582825627 2.45652\n",
      "9.38800278143 2.8031\n",
      "9.07116162105 3.1165\n",
      "10.0776775488 3.46456\n",
      "10.270602475 3.80486\n",
      "10.5170356752 4.14047\n",
      "10.184418697 4.44267\n",
      "9.49949375689 4.69551\n",
      "11.1380292998 5.01763\n",
      "10.3836380775 5.28593\n",
      "10.8746407789 5.56537\n",
      "9.10529971279 5.74237\n",
      "8.25145698188 5.86782\n",
      "11.3415918293 6.14151\n",
      "8.09313322373 6.23909\n",
      "9.53601328786 6.40394\n",
      "8.42432057077 6.50496\n",
      "8.22206167965 6.59081\n",
      "9.61948505562 6.74224\n",
      "10.2671698409 6.91849\n",
      "10.3416360949 7.08965\n",
      "9.82981863622 7.22666\n",
      "9.65355115185 7.348\n",
      "9.0307645977 7.43214\n",
      "13.9869665537 7.75988\n",
      "9.99305613509 7.87154\n",
      "9.90078037068 7.973\n",
      "10.0947815388 8.07909\n",
      "9.03123700906 8.1267\n",
      "8.04379771402 8.12255\n",
      "9.57561822615 8.1952\n",
      "9.48719693874 8.2598\n",
      "8.49312671362 8.27147\n",
      "8.45992152861 8.28089\n",
      "8.64109748929 8.2989\n",
      "8.45236204199 8.30658\n",
      "8.33996262567 8.30824\n",
      "10.6841661238 8.42704\n",
      "10.9510708517 8.55324\n",
      "11.2051486023 8.68584\n",
      "11.1148480784 8.80729\n",
      "10.6897826152 8.90141\n",
      "10.1327985913 8.96298\n",
      "11.3992809865 9.0848\n",
      "11.3899721546 9.20006\n",
      "8.7343840344 9.17677\n",
      "9.56105191163 9.19599\n",
      "8.89926150979 9.18115\n",
      "9.9118639527 9.21768\n",
      "10.5132490991 9.28246\n",
      "8.54917887487 9.2458\n",
      "10.8728672144 9.32715\n",
      "10.0756567869 9.36458\n",
      "10.120170902 9.40236\n",
      "11.0303864349 9.48376\n",
      "9.3595834703 9.47755\n",
      "9.18374475951 9.46286\n",
      "14.2119824326 9.70032\n",
      "9.29795488504 9.6802\n",
      "9.71065895465 9.68172\n",
      "11.8173990879 9.7885\n",
      "9.86260302688 9.79221\n",
      "8.87488517912 9.74634\n",
      "9.28475560234 9.72326\n",
      "11.118059658 9.793\n",
      "11.499409387 9.87832\n",
      "10.1908398796 9.89395\n",
      "10.9351204235 9.94601\n",
      "11.0566127566 10.0015\n",
      "10.6625634982 10.0346\n",
      "10.8316922899 10.0744\n",
      "8.65878194289 10.0037\n",
      "8.55400399195 9.93118\n",
      "9.30936266732 9.90009\n",
      "9.53417421603 9.88179\n",
      "8.45584669983 9.81049\n",
      "10.5121261887 9.84557\n",
      "9.95464070438 9.85103\n",
      "8.2305399865 9.77\n",
      "10.4614138652 9.80457\n",
      "10.9386414702 9.86128\n",
      "8.38426868153 9.78743\n",
      "10.0753223884 9.80182\n",
      "9.54077453092 9.78877\n",
      "9.95843556218 9.79725\n",
      "9.41514113377 9.77815\n",
      "9.29542309967 9.75401\n",
      "10.5673988585 9.79468\n",
      "9.68185176271 9.78904\n",
      "9.13506226823 9.75634\n",
      "10.3725670921 9.78715\n",
      "9.84153880098 9.78987\n",
      "11.5501515902 9.87788\n",
      "10.9465846887 9.93132\n",
      "9.1845089663 9.89398\n"
     ]
    }
   ],
   "source": [
    "import tensorflow as tf\n",
    "import numpy as np\n",
    "\n",
    "raw_data = np.random.normal(10,1,100)\n",
    "\n",
    "alpha = tf.constant(0.05)\n",
    "curr_value = tf.placeholder(tf.float32)\n",
    "prev_avg = tf.Variable(0.)\n",
    "update_avg = alpha * curr_value + (1- alpha) * prev_avg\n",
    "init = tf.global_variables_initializer()\n",
    "\n",
    "with tf.Session() as sess:\n",
    "    sess.run(init)\n",
    "    for i in range(len(raw_data)):\n",
    "        curr_avg = sess.run(update_avg, feed_dict={curr_value: raw_data[i]})\n",
    "        sess.run(tf.assign(prev_avg, curr_avg))\n",
    "        print(raw_data[i], curr_avg)"
   ]
  },
  {
   "cell_type": "markdown",
   "metadata": {},
   "source": [
    "# Listing 2.15 Writing summaries to view in TensorBoard\n"
   ]
  },
  {
   "cell_type": "markdown",
   "metadata": {},
   "source": [
    "https://stackoverflow.com/questions/41066244/tensorflow-module-object-has-no-attribute-scalar-summary"
   ]
  },
  {
   "cell_type": "code",
   "execution_count": null,
   "metadata": {
    "collapsed": true
   },
   "outputs": [],
   "source": []
  }
 ],
 "metadata": {
  "kernelspec": {
   "display_name": "Python 3",
   "language": "python",
   "name": "python3"
  },
  "language_info": {
   "codemirror_mode": {
    "name": "ipython",
    "version": 3
   },
   "file_extension": ".py",
   "mimetype": "text/x-python",
   "name": "python",
   "nbconvert_exporter": "python",
   "pygments_lexer": "ipython3",
   "version": "3.6.1"
  }
 },
 "nbformat": 4,
 "nbformat_minor": 2
}
